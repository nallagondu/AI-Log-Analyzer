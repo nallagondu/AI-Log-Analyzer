{
  "nbformat": 4,
  "nbformat_minor": 0,
  "metadata": {
    "colab": {
      "provenance": [],
      "collapsed_sections": [],
      "include_colab_link": true
    },
    "kernelspec": {
      "name": "python3",
      "display_name": "Python 3"
    }
  },
  "cells": [
    {
      "cell_type": "markdown",
      "metadata": {
        "id": "view-in-github",
        "colab_type": "text"
      },
      "source": [
        "<a href=\"https://colab.research.google.com/github/nallagondu/AI-Log-Analyzer/blob/main/Copy_of_Python_Basics.ipynb\" target=\"_parent\"><img src=\"https://colab.research.google.com/assets/colab-badge.svg\" alt=\"Open In Colab\"/></a>"
      ]
    },
    {
      "cell_type": "markdown",
      "metadata": {
        "id": "mBgNudPIPwvk"
      },
      "source": [
        "# **Hello World in Python!**"
      ]
    },
    {
      "cell_type": "code",
      "metadata": {
        "id": "WBzyGTIcPodV"
      },
      "source": [
        "print(\"Hello World how are you?\")\n",
        "# This a is a comment"
      ],
      "execution_count": null,
      "outputs": []
    },
    {
      "cell_type": "markdown",
      "metadata": {
        "id": "ElXqPGUsQeW3"
      },
      "source": [
        "# **Datatype**"
      ]
    },
    {
      "cell_type": "code",
      "metadata": {
        "id": "KHr3dSAlQaXk"
      },
      "source": [
        "a = 12\n",
        "print(a)       \n",
        "print(type(a))"
      ],
      "execution_count": null,
      "outputs": []
    },
    {
      "cell_type": "code",
      "metadata": {
        "id": "3E-c8ymwQyuR"
      },
      "source": [
        "b = 1.7\n",
        "print(b)       \n",
        "print(type(b))"
      ],
      "execution_count": null,
      "outputs": []
    },
    {
      "cell_type": "code",
      "metadata": {
        "id": "lLLgBaYNQ3Bp"
      },
      "source": [
        "c = \"Python\"\n",
        "print(c)       \n",
        "print(type(c))"
      ],
      "execution_count": null,
      "outputs": []
    },
    {
      "cell_type": "code",
      "metadata": {
        "id": "c1HVwJj3Q6_c"
      },
      "source": [
        "d = True\n",
        "print(d)\n",
        "print(type(d))"
      ],
      "execution_count": null,
      "outputs": []
    },
    {
      "cell_type": "code",
      "metadata": {
        "id": "pfASQU9UQ-UN",
        "outputId": "4f0aff42-8675-4c88-bd86-ebf41dc0d7ee",
        "colab": {
          "base_uri": "https://localhost:8080/"
        }
      },
      "source": [
        "a, b, c = 1, 2, 3\n",
        "a, b, c = 1, 3.5, \"hello\"\n",
        "print(type(a))\n",
        "print(type(b)) \n",
        "print(type(c))"
      ],
      "execution_count": null,
      "outputs": [
        {
          "output_type": "stream",
          "name": "stdout",
          "text": [
            "<class 'int'>\n",
            "<class 'float'>\n",
            "<class 'str'>\n"
          ]
        }
      ]
    },
    {
      "cell_type": "markdown",
      "metadata": {
        "id": "r_7fd7J2Rr9f"
      },
      "source": [
        "# **Math Operation**"
      ]
    },
    {
      "cell_type": "code",
      "metadata": {
        "id": "mpIoTifoRxVT",
        "outputId": "15056303-2353-4e30-9ee5-0708e88019c4",
        "colab": {
          "base_uri": "https://localhost:8080/"
        }
      },
      "source": [
        "a = 77\n",
        "b = a * 0.22\n",
        "b = b + 2000  \n",
        "print (b)"
      ],
      "execution_count": null,
      "outputs": [
        {
          "output_type": "stream",
          "name": "stdout",
          "text": [
            "2016.94\n"
          ]
        }
      ]
    },
    {
      "cell_type": "code",
      "source": [
        "c = int(b)\n",
        "print (c)"
      ],
      "metadata": {
        "colab": {
          "base_uri": "https://localhost:8080/"
        },
        "id": "HkEa20qivG4D",
        "outputId": "aa8940dd-1199-490b-c14b-4bc63650051b"
      },
      "execution_count": null,
      "outputs": [
        {
          "output_type": "stream",
          "name": "stdout",
          "text": [
            "16\n"
          ]
        }
      ]
    },
    {
      "cell_type": "code",
      "source": [
        "c = int(round(b,0))\n",
        "print (c)"
      ],
      "metadata": {
        "colab": {
          "base_uri": "https://localhost:8080/"
        },
        "id": "a6ndZM1Pvmuw",
        "outputId": "6d1e7b21-9993-4ad2-a552-674f22c23d9f"
      },
      "execution_count": null,
      "outputs": [
        {
          "output_type": "execute_result",
          "data": {
            "text/plain": [
              "17"
            ]
          },
          "metadata": {},
          "execution_count": 8
        }
      ]
    },
    {
      "cell_type": "code",
      "source": [
        "a = 77\n",
        "b = a * 0.22\n",
        "print (b)"
      ],
      "metadata": {
        "id": "Tr61VpKgvFQq"
      },
      "execution_count": null,
      "outputs": []
    },
    {
      "cell_type": "markdown",
      "source": [
        "# Boolean"
      ],
      "metadata": {
        "id": "6Ixx1km7v8fp"
      }
    },
    {
      "cell_type": "code",
      "metadata": {
        "id": "scwoueSfR4fv"
      },
      "source": [
        "x = True\n",
        "y = False\n",
        "print(x and y)  \n",
        "print(x or y)   \n",
        "print(not x)    \n",
        "print(x & y)"
      ],
      "execution_count": null,
      "outputs": []
    },
    {
      "cell_type": "markdown",
      "source": [
        "# Printing"
      ],
      "metadata": {
        "id": "gKOx2o6i0pgM"
      }
    },
    {
      "cell_type": "code",
      "source": [
        "message = \"Lets Learn AI\""
      ],
      "metadata": {
        "id": "5QjYDF4V0ukg"
      },
      "execution_count": 1,
      "outputs": []
    },
    {
      "cell_type": "code",
      "source": [
        "print (message)"
      ],
      "metadata": {
        "id": "kKtTXl4c01mn",
        "colab": {
          "base_uri": "https://localhost:8080/"
        },
        "outputId": "1619f0c2-882b-4c73-fb8b-bec1b0fba6fa"
      },
      "execution_count": 2,
      "outputs": [
        {
          "output_type": "stream",
          "name": "stdout",
          "text": [
            "Lets Learn AI\n"
          ]
        }
      ]
    },
    {
      "cell_type": "code",
      "source": [
        "print (\"The Message is - \",message )"
      ],
      "metadata": {
        "id": "Yeukscyy05bP",
        "colab": {
          "base_uri": "https://localhost:8080/"
        },
        "outputId": "d4f12b2f-280e-479e-bdf4-2c30181157bf"
      },
      "execution_count": 3,
      "outputs": [
        {
          "output_type": "stream",
          "name": "stdout",
          "text": [
            "The Message is -  Lets Learn AI\n"
          ]
        }
      ]
    },
    {
      "cell_type": "code",
      "source": [
        "print (message,\".\",sep=\"Come on\", end=\"Team\")"
      ],
      "metadata": {
        "id": "GDSYwZi80-Q_"
      },
      "execution_count": null,
      "outputs": []
    },
    {
      "cell_type": "code",
      "source": [
        "print (\"a =\",\"5\",sep=\"00\",end=\".000\")"
      ],
      "metadata": {
        "id": "i34A5Xvr1cJQ"
      },
      "execution_count": null,
      "outputs": []
    },
    {
      "cell_type": "code",
      "source": [
        "first = \"Artificial\"\n",
        "last = \"Intelligence\"\n",
        "Mid = \" Learning \"\n",
        "\n",
        "print(\"You Know? {} {} {} , is the new trend!\".format(first,last,Mid))\n",
        "print(len(first + last + Mid))\n"
      ],
      "metadata": {
        "id": "Dt0GoNRd6dTE",
        "colab": {
          "base_uri": "https://localhost:8080/"
        },
        "outputId": "2a371a1e-89d8-4e46-8fb3-ac84f8e10c26"
      },
      "execution_count": 9,
      "outputs": [
        {
          "output_type": "stream",
          "name": "stdout",
          "text": [
            "You Know? Artificial Intelligence  Learning  , is the new trend!\n",
            "32\n"
          ]
        }
      ]
    },
    {
      "cell_type": "code",
      "source": [
        "print(\"%s%s\" % (first, last)) "
      ],
      "metadata": {
        "id": "OnxsAeap9t0b",
        "colab": {
          "base_uri": "https://localhost:8080/"
        },
        "outputId": "0b7f70c1-57e5-4417-db9d-6c761129774c"
      },
      "execution_count": 11,
      "outputs": [
        {
          "output_type": "stream",
          "name": "stdout",
          "text": [
            "ArtificialIntelligence\n"
          ]
        }
      ]
    },
    {
      "cell_type": "code",
      "source": [
        "float = 2.154327\n",
        "print( \"{:.2f}\".format(float))"
      ],
      "metadata": {
        "id": "hJKlHhVu6mOV"
      },
      "execution_count": null,
      "outputs": []
    },
    {
      "cell_type": "code",
      "source": [
        "print (\"%.2f\" % (float))"
      ],
      "metadata": {
        "id": "SZNFjYGc9pfd"
      },
      "execution_count": null,
      "outputs": []
    }
  ]
}